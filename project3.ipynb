{
 "cells": [
  {
   "cell_type": "markdown",
   "metadata": {},
   "source": [
    "#### Data Engineering Project using psycopg2 #####"
   ]
  },
  {
   "cell_type": "code",
   "execution_count": 71,
   "metadata": {},
   "outputs": [],
   "source": [
    "import pandas as pd \n",
    "import psycopg2"
   ]
  },
  {
   "cell_type": "markdown",
   "metadata": {},
   "source": [
    "##### Connecting to the database #####"
   ]
  },
  {
   "cell_type": "code",
   "execution_count": 73,
   "metadata": {},
   "outputs": [],
   "source": [
    "credentials={\"host\": \"*********\",\n",
    "             \"dbname\": \"*****\",\n",
    "             \"user\":\"*****\",\n",
    "             \"password\":\"****\"}\n",
    "\n",
    "# Keeping the credentials confendital for the safety purpose\n",
    "\n",
    "con= psycopg2.connect(**credentials)\n",
    "# con.set_session(autocommit=True)\n",
    "cursor = con.cursor()\n",
    "con.set_session(autocommit=True)\n"
   ]
  },
  {
   "cell_type": "markdown",
   "metadata": {},
   "source": [
    "##### Creating tables inside the database #####"
   ]
  },
  {
   "cell_type": "code",
   "execution_count": null,
   "metadata": {},
   "outputs": [],
   "source": [
    "listOfOrder_TableCreate = (\"\"\"CREATE TABLE IF NOT EXISTS ListOfOrder(\n",
    "                           orderID VARCHAR PRIMARY KEY,\n",
    "                           OrderDate VARCHAR,\n",
    "                           customerName VARCHAR,\n",
    "                           state VARCHAR,\n",
    "                           city VARCHAR\n",
    "                           \n",
    ")\"\"\")\n",
    "cursor.execute(listOfOrder_TableCreate)\n",
    "con.commit()\n",
    "cursor.execute(\"SET datestyle = 'ISO, DMY';\")\n",
    "con.commit()"
   ]
  },
  {
   "cell_type": "code",
   "execution_count": 66,
   "metadata": {},
   "outputs": [],
   "source": [
    "OrderDetail_tableCreate = (\"\"\"CREATE TABLE IF NOT EXISTS OrderDetail(\n",
    "                           orderID VARCHAR,\n",
    "                           amount REAL,\n",
    "                           profit REAL,\n",
    "                           quantity INTEGER,\n",
    "                           category VARCHAR,\n",
    "                           sub_category VARCHAR\n",
    "                           \n",
    "                           \n",
    ")\"\"\") "
   ]
  },
  {
   "cell_type": "code",
   "execution_count": 67,
   "metadata": {},
   "outputs": [],
   "source": [
    "cursor.execute(OrderDetail_tableCreate)\n",
    "con.commit()"
   ]
  },
  {
   "cell_type": "code",
   "execution_count": 62,
   "metadata": {},
   "outputs": [],
   "source": [
    "salesTarget_tableCreate = (\"\"\" CREATE TABLE IF NOT EXISTS SalesTarget(\n",
    "                           MothOfOrderDate VARCHAR,\n",
    "                           Category VARCHAR,\n",
    "                           Target real\n",
    "                           \n",
    ")\"\"\")"
   ]
  },
  {
   "cell_type": "code",
   "execution_count": 41,
   "metadata": {},
   "outputs": [],
   "source": [
    "cursor.execute(salesTarget_tableCreate)\n",
    "con.commit()"
   ]
  },
  {
   "cell_type": "markdown",
   "metadata": {},
   "source": [
    "##### Insert Query to insert the data from csv file into the database ######"
   ]
  },
  {
   "cell_type": "code",
   "execution_count": 50,
   "metadata": {},
   "outputs": [],
   "source": [
    "listOfOrder_InsertQuery = (\"\"\"INSERT INTO ListOfOrder(\n",
    "                           orderID,\n",
    "                           OrderDate,\n",
    "                           customerName,\n",
    "                           state,\n",
    "                           city)\n",
    "                           VALUES (%s,%s,%s,%s,%s)\n",
    "\"\"\")"
   ]
  },
  {
   "cell_type": "code",
   "execution_count": 86,
   "metadata": {},
   "outputs": [
    {
     "data": {
      "text/html": [
       "<div>\n",
       "<style scoped>\n",
       "    .dataframe tbody tr th:only-of-type {\n",
       "        vertical-align: middle;\n",
       "    }\n",
       "\n",
       "    .dataframe tbody tr th {\n",
       "        vertical-align: top;\n",
       "    }\n",
       "\n",
       "    .dataframe thead th {\n",
       "        text-align: right;\n",
       "    }\n",
       "</style>\n",
       "<table border=\"1\" class=\"dataframe\">\n",
       "  <thead>\n",
       "    <tr style=\"text-align: right;\">\n",
       "      <th></th>\n",
       "      <th>Order ID</th>\n",
       "      <th>Order Date</th>\n",
       "      <th>CustomerName</th>\n",
       "      <th>State</th>\n",
       "      <th>City</th>\n",
       "    </tr>\n",
       "  </thead>\n",
       "  <tbody>\n",
       "    <tr>\n",
       "      <th>0</th>\n",
       "      <td>B-25601</td>\n",
       "      <td>01-04-2018</td>\n",
       "      <td>Bharat</td>\n",
       "      <td>Gujarat</td>\n",
       "      <td>Ahmedabad</td>\n",
       "    </tr>\n",
       "    <tr>\n",
       "      <th>1</th>\n",
       "      <td>B-25602</td>\n",
       "      <td>01-04-2018</td>\n",
       "      <td>Pearl</td>\n",
       "      <td>Maharashtra</td>\n",
       "      <td>Pune</td>\n",
       "    </tr>\n",
       "    <tr>\n",
       "      <th>2</th>\n",
       "      <td>B-25603</td>\n",
       "      <td>03-04-2018</td>\n",
       "      <td>Jahan</td>\n",
       "      <td>Madhya Pradesh</td>\n",
       "      <td>Bhopal</td>\n",
       "    </tr>\n",
       "    <tr>\n",
       "      <th>3</th>\n",
       "      <td>B-25604</td>\n",
       "      <td>03-04-2018</td>\n",
       "      <td>Divsha</td>\n",
       "      <td>Rajasthan</td>\n",
       "      <td>Jaipur</td>\n",
       "    </tr>\n",
       "    <tr>\n",
       "      <th>4</th>\n",
       "      <td>B-25605</td>\n",
       "      <td>05-04-2018</td>\n",
       "      <td>Kasheen</td>\n",
       "      <td>West Bengal</td>\n",
       "      <td>Kolkata</td>\n",
       "    </tr>\n",
       "    <tr>\n",
       "      <th>5</th>\n",
       "      <td>B-25606</td>\n",
       "      <td>06-04-2018</td>\n",
       "      <td>Hazel</td>\n",
       "      <td>Karnataka</td>\n",
       "      <td>Bangalore</td>\n",
       "    </tr>\n",
       "    <tr>\n",
       "      <th>6</th>\n",
       "      <td>B-25607</td>\n",
       "      <td>06-04-2018</td>\n",
       "      <td>Sonakshi</td>\n",
       "      <td>Jammu and Kashmir</td>\n",
       "      <td>Kashmir</td>\n",
       "    </tr>\n",
       "    <tr>\n",
       "      <th>7</th>\n",
       "      <td>B-25608</td>\n",
       "      <td>08-04-2018</td>\n",
       "      <td>Aarushi</td>\n",
       "      <td>Tamil Nadu</td>\n",
       "      <td>Chennai</td>\n",
       "    </tr>\n",
       "    <tr>\n",
       "      <th>8</th>\n",
       "      <td>B-25609</td>\n",
       "      <td>09-04-2018</td>\n",
       "      <td>Jitesh</td>\n",
       "      <td>Uttar Pradesh</td>\n",
       "      <td>Lucknow</td>\n",
       "    </tr>\n",
       "    <tr>\n",
       "      <th>9</th>\n",
       "      <td>B-25610</td>\n",
       "      <td>09-04-2018</td>\n",
       "      <td>Yogesh</td>\n",
       "      <td>Bihar</td>\n",
       "      <td>Patna</td>\n",
       "    </tr>\n",
       "  </tbody>\n",
       "</table>\n",
       "</div>"
      ],
      "text/plain": [
       "  Order ID  Order Date CustomerName              State       City\n",
       "0  B-25601  01-04-2018       Bharat            Gujarat  Ahmedabad\n",
       "1  B-25602  01-04-2018        Pearl        Maharashtra       Pune\n",
       "2  B-25603  03-04-2018        Jahan     Madhya Pradesh     Bhopal\n",
       "3  B-25604  03-04-2018       Divsha          Rajasthan     Jaipur\n",
       "4  B-25605  05-04-2018      Kasheen        West Bengal    Kolkata\n",
       "5  B-25606  06-04-2018        Hazel          Karnataka  Bangalore\n",
       "6  B-25607  06-04-2018     Sonakshi  Jammu and Kashmir    Kashmir\n",
       "7  B-25608  08-04-2018      Aarushi         Tamil Nadu    Chennai\n",
       "8  B-25609  09-04-2018       Jitesh      Uttar Pradesh    Lucknow\n",
       "9  B-25610  09-04-2018       Yogesh              Bihar      Patna"
      ]
     },
     "execution_count": 86,
     "metadata": {},
     "output_type": "execute_result"
    }
   ],
   "source": [
    "listOfOrder_Data = pd.read_csv('ListofOrders.csv')\n",
    "listOfOrder_Data.dropna(inplace=True)\n",
    "listOfOrder_Data.drop_duplicates(inplace=True)\n",
    "listOfOrder_Data.head(10)"
   ]
  },
  {
   "cell_type": "code",
   "execution_count": 52,
   "metadata": {},
   "outputs": [],
   "source": [
    "for i, row in listOfOrder_Data.iterrows():\n",
    "    cursor.execute(listOfOrder_InsertQuery, list(row))\n",
    "\n",
    "con.commit()"
   ]
  },
  {
   "cell_type": "code",
   "execution_count": 68,
   "metadata": {},
   "outputs": [],
   "source": [
    "OrderDetail_InsertQuery = (\"\"\"INSERT INTO OrderDetail(\n",
    "                           orderID,\n",
    "                           amount,\n",
    "                           profit,\n",
    "                           quantity,\n",
    "                           category,\n",
    "                           sub_category)\n",
    "                           VALUES (%s,%s,%s,%s,%s,%s);\n",
    "\"\"\")"
   ]
  },
  {
   "cell_type": "code",
   "execution_count": 87,
   "metadata": {},
   "outputs": [
    {
     "data": {
      "text/html": [
       "<div>\n",
       "<style scoped>\n",
       "    .dataframe tbody tr th:only-of-type {\n",
       "        vertical-align: middle;\n",
       "    }\n",
       "\n",
       "    .dataframe tbody tr th {\n",
       "        vertical-align: top;\n",
       "    }\n",
       "\n",
       "    .dataframe thead th {\n",
       "        text-align: right;\n",
       "    }\n",
       "</style>\n",
       "<table border=\"1\" class=\"dataframe\">\n",
       "  <thead>\n",
       "    <tr style=\"text-align: right;\">\n",
       "      <th></th>\n",
       "      <th>Order ID</th>\n",
       "      <th>Amount</th>\n",
       "      <th>Profit</th>\n",
       "      <th>Quantity</th>\n",
       "      <th>Category</th>\n",
       "      <th>Sub-Category</th>\n",
       "    </tr>\n",
       "  </thead>\n",
       "  <tbody>\n",
       "    <tr>\n",
       "      <th>0</th>\n",
       "      <td>B-25601</td>\n",
       "      <td>1275.0</td>\n",
       "      <td>-1148.0</td>\n",
       "      <td>7</td>\n",
       "      <td>Furniture</td>\n",
       "      <td>Bookcases</td>\n",
       "    </tr>\n",
       "    <tr>\n",
       "      <th>1</th>\n",
       "      <td>B-25601</td>\n",
       "      <td>66.0</td>\n",
       "      <td>-12.0</td>\n",
       "      <td>5</td>\n",
       "      <td>Clothing</td>\n",
       "      <td>Stole</td>\n",
       "    </tr>\n",
       "    <tr>\n",
       "      <th>2</th>\n",
       "      <td>B-25601</td>\n",
       "      <td>8.0</td>\n",
       "      <td>-2.0</td>\n",
       "      <td>3</td>\n",
       "      <td>Clothing</td>\n",
       "      <td>Hankerchief</td>\n",
       "    </tr>\n",
       "    <tr>\n",
       "      <th>3</th>\n",
       "      <td>B-25601</td>\n",
       "      <td>80.0</td>\n",
       "      <td>-56.0</td>\n",
       "      <td>4</td>\n",
       "      <td>Electronics</td>\n",
       "      <td>Electronic Games</td>\n",
       "    </tr>\n",
       "    <tr>\n",
       "      <th>4</th>\n",
       "      <td>B-25602</td>\n",
       "      <td>168.0</td>\n",
       "      <td>-111.0</td>\n",
       "      <td>2</td>\n",
       "      <td>Electronics</td>\n",
       "      <td>Phones</td>\n",
       "    </tr>\n",
       "    <tr>\n",
       "      <th>5</th>\n",
       "      <td>B-25602</td>\n",
       "      <td>424.0</td>\n",
       "      <td>-272.0</td>\n",
       "      <td>5</td>\n",
       "      <td>Electronics</td>\n",
       "      <td>Phones</td>\n",
       "    </tr>\n",
       "    <tr>\n",
       "      <th>6</th>\n",
       "      <td>B-25602</td>\n",
       "      <td>2617.0</td>\n",
       "      <td>1151.0</td>\n",
       "      <td>4</td>\n",
       "      <td>Electronics</td>\n",
       "      <td>Phones</td>\n",
       "    </tr>\n",
       "    <tr>\n",
       "      <th>7</th>\n",
       "      <td>B-25602</td>\n",
       "      <td>561.0</td>\n",
       "      <td>212.0</td>\n",
       "      <td>3</td>\n",
       "      <td>Clothing</td>\n",
       "      <td>Saree</td>\n",
       "    </tr>\n",
       "    <tr>\n",
       "      <th>8</th>\n",
       "      <td>B-25602</td>\n",
       "      <td>119.0</td>\n",
       "      <td>-5.0</td>\n",
       "      <td>8</td>\n",
       "      <td>Clothing</td>\n",
       "      <td>Saree</td>\n",
       "    </tr>\n",
       "    <tr>\n",
       "      <th>9</th>\n",
       "      <td>B-25603</td>\n",
       "      <td>1355.0</td>\n",
       "      <td>-60.0</td>\n",
       "      <td>5</td>\n",
       "      <td>Clothing</td>\n",
       "      <td>Trousers</td>\n",
       "    </tr>\n",
       "  </tbody>\n",
       "</table>\n",
       "</div>"
      ],
      "text/plain": [
       "  Order ID  Amount  Profit  Quantity     Category      Sub-Category\n",
       "0  B-25601  1275.0 -1148.0         7    Furniture         Bookcases\n",
       "1  B-25601    66.0   -12.0         5     Clothing             Stole\n",
       "2  B-25601     8.0    -2.0         3     Clothing       Hankerchief\n",
       "3  B-25601    80.0   -56.0         4  Electronics  Electronic Games\n",
       "4  B-25602   168.0  -111.0         2  Electronics            Phones\n",
       "5  B-25602   424.0  -272.0         5  Electronics            Phones\n",
       "6  B-25602  2617.0  1151.0         4  Electronics            Phones\n",
       "7  B-25602   561.0   212.0         3     Clothing             Saree\n",
       "8  B-25602   119.0    -5.0         8     Clothing             Saree\n",
       "9  B-25603  1355.0   -60.0         5     Clothing          Trousers"
      ]
     },
     "execution_count": 87,
     "metadata": {},
     "output_type": "execute_result"
    }
   ],
   "source": [
    "OrderDetail_data = pd.read_csv(\"OrderDetails.csv\")\n",
    "OrderDetail_data.head(10)"
   ]
  },
  {
   "cell_type": "code",
   "execution_count": 70,
   "metadata": {},
   "outputs": [],
   "source": [
    "for i, row in OrderDetail_data.iterrows():\n",
    "    cursor.execute(OrderDetail_InsertQuery, list(row))\n",
    "\n",
    "con.commit()"
   ]
  },
  {
   "cell_type": "code",
   "execution_count": 28,
   "metadata": {},
   "outputs": [
    {
     "data": {
      "text/html": [
       "<div>\n",
       "<style scoped>\n",
       "    .dataframe tbody tr th:only-of-type {\n",
       "        vertical-align: middle;\n",
       "    }\n",
       "\n",
       "    .dataframe tbody tr th {\n",
       "        vertical-align: top;\n",
       "    }\n",
       "\n",
       "    .dataframe thead th {\n",
       "        text-align: right;\n",
       "    }\n",
       "</style>\n",
       "<table border=\"1\" class=\"dataframe\">\n",
       "  <thead>\n",
       "    <tr style=\"text-align: right;\">\n",
       "      <th></th>\n",
       "      <th>Month of Order Date</th>\n",
       "      <th>Category</th>\n",
       "      <th>Target</th>\n",
       "    </tr>\n",
       "  </thead>\n",
       "  <tbody>\n",
       "    <tr>\n",
       "      <th>31</th>\n",
       "      <td>Nov-18</td>\n",
       "      <td>Electronics</td>\n",
       "      <td>9000.0</td>\n",
       "    </tr>\n",
       "    <tr>\n",
       "      <th>32</th>\n",
       "      <td>Dec-18</td>\n",
       "      <td>Electronics</td>\n",
       "      <td>9000.0</td>\n",
       "    </tr>\n",
       "    <tr>\n",
       "      <th>33</th>\n",
       "      <td>Jan-19</td>\n",
       "      <td>Electronics</td>\n",
       "      <td>16000.0</td>\n",
       "    </tr>\n",
       "    <tr>\n",
       "      <th>34</th>\n",
       "      <td>Feb-19</td>\n",
       "      <td>Electronics</td>\n",
       "      <td>16000.0</td>\n",
       "    </tr>\n",
       "    <tr>\n",
       "      <th>35</th>\n",
       "      <td>Mar-19</td>\n",
       "      <td>Electronics</td>\n",
       "      <td>16000.0</td>\n",
       "    </tr>\n",
       "  </tbody>\n",
       "</table>\n",
       "</div>"
      ],
      "text/plain": [
       "   Month of Order Date     Category   Target\n",
       "31              Nov-18  Electronics   9000.0\n",
       "32              Dec-18  Electronics   9000.0\n",
       "33              Jan-19  Electronics  16000.0\n",
       "34              Feb-19  Electronics  16000.0\n",
       "35              Mar-19  Electronics  16000.0"
      ]
     },
     "execution_count": 28,
     "metadata": {},
     "output_type": "execute_result"
    }
   ],
   "source": [
    "salesTarget_Data = pd.read_csv(\"Salestarget.csv\")\n",
    "salesTarget_Data.head(5)"
   ]
  },
  {
   "cell_type": "code",
   "execution_count": 29,
   "metadata": {},
   "outputs": [],
   "source": [
    "SalesTarget_InsertQuery = (\"\"\"INSERT INTO SalesTarget(\n",
    "                           MothOfOrderDate,\n",
    "                           Category,\n",
    "                           Target)\n",
    "                           VALUES (%s,%s,%s)\"\"\")"
   ]
  },
  {
   "cell_type": "code",
   "execution_count": 30,
   "metadata": {},
   "outputs": [],
   "source": [
    "for i, row in salesTarget_Data.iterrows():\n",
    "    cursor.execute(SalesTarget_InsertQuery, list(row))\n",
    "\n",
    "con.commit()\n"
   ]
  },
  {
   "cell_type": "markdown",
   "metadata": {},
   "source": [
    "##### Quering the Database tables ######"
   ]
  },
  {
   "cell_type": "code",
   "execution_count": 88,
   "metadata": {},
   "outputs": [
    {
     "name": "stdout",
     "output_type": "stream",
     "text": [
      "('B-25601', datetime.date(2018, 4, 1), 'Bharat', 'Gujarat', 'Ahmedabad')\n",
      "('B-25602', datetime.date(2018, 4, 1), 'Pearl', 'Maharashtra', 'Pune')\n",
      "('B-25603', datetime.date(2018, 4, 3), 'Jahan', 'Madhya Pradesh', 'Bhopal')\n",
      "('B-25604', datetime.date(2018, 4, 3), 'Divsha', 'Rajasthan', 'Jaipur')\n",
      "('B-25605', datetime.date(2018, 4, 5), 'Kasheen', 'West Bengal', 'Kolkata')\n",
      "('B-25606', datetime.date(2018, 4, 6), 'Hazel', 'Karnataka', 'Bangalore')\n",
      "('B-25607', datetime.date(2018, 4, 6), 'Sonakshi', 'Jammu and Kashmir', 'Kashmir')\n",
      "('B-25608', datetime.date(2018, 4, 8), 'Aarushi', 'Tamil Nadu', 'Chennai')\n",
      "('B-25609', datetime.date(2018, 4, 9), 'Jitesh', 'Uttar Pradesh', 'Lucknow')\n",
      "('B-25610', datetime.date(2018, 4, 9), 'Yogesh', 'Bihar', 'Patna')\n"
     ]
    }
   ],
   "source": [
    "cursor.execute(\"Select * from listoforder limit 10;\")\n",
    "rows = cursor.fetchall()\n",
    "for row in rows:\n",
    "    print(row)"
   ]
  }
 ],
 "metadata": {
  "kernelspec": {
   "display_name": "py_env",
   "language": "python",
   "name": "python3"
  },
  "language_info": {
   "codemirror_mode": {
    "name": "ipython",
    "version": 3
   },
   "file_extension": ".py",
   "mimetype": "text/x-python",
   "name": "python",
   "nbconvert_exporter": "python",
   "pygments_lexer": "ipython3",
   "version": "3.11.4"
  }
 },
 "nbformat": 4,
 "nbformat_minor": 2
}
